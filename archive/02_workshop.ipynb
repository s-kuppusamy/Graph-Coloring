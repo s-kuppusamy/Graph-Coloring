{
 "cells": [
  {
   "cell_type": "markdown",
   "metadata": {},
   "source": [
    "# Discrete Final"
   ]
  },
  {
   "cell_type": "code",
   "execution_count": 109,
   "metadata": {},
   "outputs": [],
   "source": [
    "%matplotlib inline\n",
    "\n",
    "import matplotlib.pyplot as plt\n",
    "import networkx as nx\n",
    "import numpy as np\n",
    "import seaborn as sns\n",
    "\n",
    "from utils import decorate"
   ]
  },
  {
   "cell_type": "code",
   "execution_count": 110,
   "metadata": {},
   "outputs": [
    {
     "name": "stderr",
     "output_type": "stream",
     "text": [
      "/home/shirin/anaconda3/lib/python3.7/site-packages/networkx/drawing/nx_pylab.py:611: MatplotlibDeprecationWarning: isinstance(..., numbers.Number)\n",
      "  if cb.is_numlike(alpha):\n"
     ]
    },
    {
     "data": {
      "image/png": "[encoded data removed]",
      "text/plain": [
       "<Figure size 432x288 with 1 Axes>"
      ]
     },
     "metadata": {},
     "output_type": "display_data"
    }
   ],
   "source": [
    "#creating graph\n",
    "G = nx.Graph()\n",
    "nodes = ('a','b','c','d','e','f','g','h','i')\n",
    "G.add_nodes_from(nodes)\n",
    "edges = {('a','b'),('b','c'),('a','d'),('b','d'),('b','e'),('b','f'),('e','f'),\n",
    "('d','g'),('e','g'),('e','h'),('e','i'),('h','i'),('c','f'),('f','i')}\n",
    "G.add_edges_from(edges)\n",
    "\n",
    "nx.draw(G, \n",
    "        node_color='C1', \n",
    "        node_shape='s', \n",
    "        node_size=2500, \n",
    "        with_labels=True)\n",
    "        "
   ]
  },
  {
   "cell_type": "code",
   "execution_count": null,
   "metadata": {},
   "outputs": [],
   "source": [
    "  #G1 = G.copy()\n",
    "    maxDegree = 0\n",
    "    index = 0\n",
    "    dUse = degrees1.copy()\n",
    "    nodes_colored = []\n",
    "    for tuple in dUse:\n",
    "        if tuple[1]>maxDegree:\n",
    "            maxDegree = tuple[1]\n",
    "            maxNode = tuple[0]\n",
    "    index = degrees.index((maxNode,maxDegree))\n",
    "    print(maxNode)\n",
    "    print(index)\n",
    "    if color_map[index]==0:\n",
    "        color_map[index] = t\n",
    "        \n",
    "         print(color_map)\n",
    "    dUse.remove((maxNode,maxDegree))\n",
    "    nodes_colored.append(maxNode)\n",
    "and (j not in neighbors1)\n",
    " neighbors1=[]\n",
    "        for n in nodes_colored:\n",
    "            neighbors1.append(list(G.neighbors(n)))\n",
    "                        neighbors1.append(list(G.neighbors(j)))"
   ]
  },
  {
   "cell_type": "code",
   "execution_count": 163,
   "metadata": {},
   "outputs": [
    {
     "name": "stdout",
     "output_type": "stream",
     "text": [
      "[('b', 5), ('e', 5), ('f', 4), ('d', 3), ('i', 3), ('a', 2), ('c', 2), ('g', 2), ('h', 2)]\n",
      "b\n",
      "['b']\n",
      "['b', 'g']\n",
      "['b', 'g', 'h']\n",
      "['b', 'g', 'h', 'i']\n",
      "e\n",
      "['e']\n",
      "['e', 'a']\n",
      "['e', 'a', 'c']\n",
      "['e', 'a', 'c', 'd']\n",
      "f\n",
      "['f']\n",
      "['f', 'a']\n",
      "['f', 'a', 'd']\n",
      "['f', 'a', 'd', 'g']\n",
      "['f', 'a', 'd', 'g', 'h']\n",
      "d\n",
      "['d']\n",
      "['d', 'c']\n",
      "['d', 'c', 'e']\n",
      "['d', 'c', 'e', 'f']\n",
      "['d', 'c', 'e', 'f', 'h']\n",
      "['d', 'c', 'e', 'f', 'h', 'i']\n",
      "i\n",
      "['i']\n",
      "['i', 'a']\n",
      "['i', 'a', 'b']\n",
      "['i', 'a', 'b', 'c']\n",
      "['i', 'a', 'b', 'c', 'd']\n",
      "['i', 'a', 'b', 'c', 'd', 'g']\n",
      "a\n",
      "['a']\n",
      "['a', 'c']\n",
      "['a', 'c', 'e']\n",
      "['a', 'c', 'e', 'f']\n",
      "['a', 'c', 'e', 'f', 'g']\n",
      "['a', 'c', 'e', 'f', 'g', 'h']\n",
      "['a', 'c', 'e', 'f', 'g', 'h', 'i']\n",
      "c\n",
      "['c']\n",
      "['c', 'a']\n",
      "['c', 'a', 'd']\n",
      "['c', 'a', 'd', 'e']\n",
      "['c', 'a', 'd', 'e', 'g']\n",
      "['c', 'a', 'd', 'e', 'g', 'h']\n",
      "['c', 'a', 'd', 'e', 'g', 'h', 'i']\n",
      "g\n",
      "['g']\n",
      "['g', 'a']\n",
      "['g', 'a', 'b']\n",
      "['g', 'a', 'b', 'c']\n",
      "['g', 'a', 'b', 'c', 'f']\n",
      "['g', 'a', 'b', 'c', 'f', 'h']\n",
      "['g', 'a', 'b', 'c', 'f', 'h', 'i']\n",
      "h\n",
      "['h']\n",
      "['h', 'a']\n",
      "['h', 'a', 'b']\n",
      "['h', 'a', 'b', 'c']\n",
      "['h', 'a', 'b', 'c', 'd']\n",
      "['h', 'a', 'b', 'c', 'd', 'f']\n",
      "['h', 'a', 'b', 'c', 'd', 'f', 'g']\n"
     ]
    },
    {
     "data": {
      "text/plain": [
       "[9, 9, 9, 9, 7, 9, 9, 9, 8]"
      ]
     },
     "execution_count": 163,
     "metadata": {},
     "output_type": "execute_result"
    }
   ],
   "source": [
    "degrees = list(G.degree(nodes))\n",
    "sdegrees = sorted(degrees, key=lambda x: x[1], reverse=True)\n",
    "print(sdegrees)\n",
    "color_map=[0,0,0,0,0,0,0,0,0]\n",
    "\n",
    "def welshpowell(G,sdegrees, t, color_map):\n",
    "    for tuple in sdegrees:\n",
    "        nodes_colored = []\n",
    "        index = degrees.index(tuple)\n",
    "        color_map[index] = t\n",
    "        print(tuple[0])\n",
    "        nodes_colored.append(tuple[0])\n",
    "        print(nodes_colored)\n",
    "        neighbors = list(G.neighbors(tuple[0]))\n",
    "        index2 = 0\n",
    "        for j in G.nodes:\n",
    "            if (j not in neighbors) and (j not in nodes_colored):\n",
    "                color_map[index2] = t\n",
    "                nodes_colored.append(j)\n",
    "                print(nodes_colored)\n",
    "                index2 += 1\n",
    "            else:\n",
    "                index2 += 1\n",
    "        t += 1\n",
    "    return color_map\n",
    "      \n",
    "welshpowell(G,sdegrees,1,color_map)\n",
    "        \n",
    "    \n",
    "    \n",
    "    \n",
    "            \n",
    "    "
   ]
  },
  {
   "cell_type": "code",
   "execution_count": null,
   "metadata": {},
   "outputs": [],
   "source": []
  }
 ],
 "metadata": {
  "kernelspec": {
   "display_name": "Python 3",
   "language": "python",
   "name": "python3"
  },
  "language_info": {
   "codemirror_mode": {
    "name": "ipython",
    "version": 3
   },
   "file_extension": ".py",
   "mimetype": "text/x-python",
   "name": "python",
   "nbconvert_exporter": "python",
   "pygments_lexer": "ipython3",
   "version": "3.7.4"
  }
 },
 "nbformat": 4,
 "nbformat_minor": 2
}
