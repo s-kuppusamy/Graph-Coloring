{
 "cells": [
  {
   "cell_type": "markdown",
   "metadata": {},
   "source": [
    "# Discrete Final"
   ]
  },
  {
   "cell_type": "code",
   "execution_count": 8,
   "metadata": {},
   "outputs": [],
   "source": [
    "%matplotlib inline\n",
    "\n",
    "import matplotlib.pyplot as plt\n",
    "import networkx as nx\n",
    "import numpy as np\n",
    "import seaborn as sns\n",
    "\n",
    "from utils import decorate"
   ]
  },
  {
   "cell_type": "code",
   "execution_count": 26,
   "metadata": {},
   "outputs": [
    {
     "name": "stderr",
     "output_type": "stream",
     "text": [
      "/home/shirin/anaconda3/lib/python3.7/site-packages/networkx/drawing/nx_pylab.py:611: MatplotlibDeprecationWarning: isinstance(..., numbers.Number)\n",
      "  if cb.is_numlike(alpha):\n"
     ]
    },
    {
     "data": {
      "image/png": "[encoded data removed]",
      "text/plain": [
       "<Figure size 432x288 with 1 Axes>"
      ]
     },
     "metadata": {},
     "output_type": "display_data"
    }
   ],
   "source": [
    "#creating graph\n",
    "G = nx.Graph()\n",
    "nodes = ('a','b','c','d','e','f','g','h','i')\n",
    "G.add_nodes_from(nodes)\n",
    "edges = {('a','b'),('b','c'),('a','d'),('b','d'),('b','e'),('b','f'),('e','f'),\n",
    "('d','g'),('e','g'),('e','h'),('e','i'),('h','i')}\n",
    "G.add_edges_from(edges)\n",
    "\n",
    "nx.draw(G, \n",
    "        node_color='C1', \n",
    "        node_shape='s', \n",
    "        node_size=2500, \n",
    "        with_labels=True)\n",
    "        "
   ]
  },
  {
   "cell_type": "code",
   "execution_count": 28,
   "metadata": {},
   "outputs": [
    {
     "name": "stdout",
     "output_type": "stream",
     "text": [
      "[('a', 2), ('b', 5), ('c', 1), ('d', 3), ('e', 5), ('f', 2), ('g', 2), ('h', 2), ('i', 2)]\n"
     ]
    }
   ],
   "source": [
    "degrees = G.degree(nodes)\n",
    "maxDegree = 0\n",
    "maxNode = 0\n",
    "nodes_colored = []\n",
    "G_colored = nx.Graph()\n",
    "\n",
    "def welshpowell(G,degrees,t):\n",
    "    for i in degrees:\n",
    "        if i(2)>maxDegree:\n",
    "            maxNode = i(1)\n",
    "    degree(i)=[]\n",
    "    \n",
    "    \n",
    "    \n",
    "    nodes_colored.append(maxNode)\n",
    "    for j in G.nodes:\n",
    "        if G.nodes(j) not in G.adj(maxNode) and (G.nodes(j) not in nodes_colored):\n",
    "            G.nodes(j) = t\n",
    "            nodes_colored.append(G.nodes(j))\n",
    "\n",
    "    nodes_colored = []\n",
    "    welshpowell()\n",
    "    \n",
    "        \n",
    "    \n",
    "    \n",
    "    \n",
    "            \n",
    "    "
   ]
  }
 ],
 "metadata": {
  "kernelspec": {
   "display_name": "Python 3",
   "language": "python",
   "name": "python3"
  },
  "language_info": {
   "codemirror_mode": {
    "name": "ipython",
    "version": 3
   },
   "file_extension": ".py",
   "mimetype": "text/x-python",
   "name": "python",
   "nbconvert_exporter": "python",
   "pygments_lexer": "ipython3",
   "version": "3.7.4"
  }
 },
 "nbformat": 4,
 "nbformat_minor": 2
}
