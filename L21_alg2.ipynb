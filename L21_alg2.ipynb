{
 "cells": [
  {
   "cell_type": "markdown",
   "metadata": {},
   "source": [
    "# L(2,1) Implementation Trying 2nd Algorithm\n",
    "Pseudocode:\n",
    "- order nodes from greatest to least degree\n",
    "- color greatest\n",
    "- remove vertices w/in distance of 2\n",
    "- color next highest degree that color\n",
    "- remove w/in distance of 2\n",
    "- continue until all vertices removed\n",
    "- bring all vertices back\n",
    "- go to next highest degree un-colored vertex, if connected to an already-colored vertex, currentColor += 2 (if not, currentColor += 1)\n",
    "- go through same as above\n",
    "- continue until all colored\n",
    "\n",
    "not ideal because colors will be skipped that could be used somewhere, but seems more plausable to implement in our timeframe and level of knowledge"
   ]
  },
  {
   "cell_type": "code",
   "execution_count": 1,
   "metadata": {},
   "outputs": [],
   "source": [
    "import networkx as nx\n",
    "import matplotlib.pyplot as plt"
   ]
  },
  {
   "cell_type": "code",
   "execution_count": 32,
   "metadata": {},
   "outputs": [],
   "source": [
    "graph = nx.cycle_graph(20) #sample graph to use\n",
    "colorings = {}\n",
    "color = 0"
   ]
  },
  {
   "cell_type": "code",
   "execution_count": 33,
   "metadata": {},
   "outputs": [
    {
     "name": "stdout",
     "output_type": "stream",
     "text": [
      "{0: 0}\n"
     ]
    },
    {
     "data": {
      "image/png": "[encoded data removed]",
      "text/plain": [
       "<Figure size 432x288 with 1 Axes>"
      ]
     },
     "metadata": {},
     "output_type": "display_data"
    }
   ],
   "source": [
    "def color_remove(graph, center):\n",
    "    \"\"\"colors max degree vertex and removes 1st and 2nd adjacencies\n",
    "\n",
    "    \"\"\"\n",
    "    \n",
    "    orderFull = sorted(graph.degree, key=lambda x: x[1], reverse=True) #order vertices max to min degree\n",
    "\n",
    "    #get just vertices in order\n",
    "    order = []\n",
    "    for i in range(len(orderFull)):\n",
    "        order.append(orderFull[i][0])\n",
    "\n",
    "    colorings.update({order[0]: color}) #assign current color to max node\n",
    "    \n",
    "    #remove 1st and 2nd adjacencies\n",
    "    adj = [] #initialize list of adjacent vertices (will hold 1st and 2nd adjacencies)\n",
    "    adj_1 = list(graph.neighbors(center)) #1st adjancies of center\n",
    "    for node in adj_1: #add 1st adjancies to adj\n",
    "        adj.append(node)\n",
    "\n",
    "    #add 2nd adjacencies of center to adj\n",
    "    for node in adj_1:\n",
    "        for adj_2 in list(graph.neighbors(node)):\n",
    "            if adj_2 not in adj: #only need set of adjacencies\n",
    "                adj.append(adj_2)\n",
    "\n",
    "    #make copy of inputted graph\n",
    "    G1 = graph.__class__()\n",
    "    G1.add_nodes_from(graph)\n",
    "    G1.add_edges_from(graph.edges)\n",
    "\n",
    "    #remove 1st and 2nd adjacent vertices (and their edges)\n",
    "    G1.remove_nodes_from(adj)\n",
    "    \n",
    "    #update order based on what is deleted\n",
    "    order = [x for x in order if x not in adj]\n",
    "    \n",
    "    return(G1, order)\n",
    "\n",
    "test_graph,test_order = color_remove(graph, 0)\n",
    "nx.draw(test_graph, with_labels = True)\n",
    "print(colorings)"
   ]
  },
  {
   "cell_type": "code",
   "execution_count": 23,
   "metadata": {},
   "outputs": [
    {
     "name": "stdout",
     "output_type": "stream",
     "text": [
      "DONE WITH RECURSION, IDK WHAT TO DO NOW\n",
      "{0: 0, 4: 0, 7: 0, 10: 0, 13: 0, 16: 0}\n"
     ]
    }
   ],
   "source": [
    "def remove_1_2_adj(graph, center, color):\n",
    "    '''\n",
    "    graph: graph we are passing in\n",
    "    center: node to delete off of (node with max degree)\n",
    "    color: the current color *not changing color now, may be useful later so put as param*\n",
    "    \n",
    "    recursively colors max degree vertex and removes 1st and 2nd adjacencies until graph is empty\n",
    "    '''\n",
    "    \n",
    "    orderFull = sorted(graph.degree, key=lambda x: x[1], reverse=True) #order vertices max to min degree\n",
    "\n",
    "    #get just vertices in order\n",
    "    order = []\n",
    "    for i in range(len(orderFull)):\n",
    "        order.append(orderFull[i][0])\n",
    "    \n",
    "    \n",
    "    colorings.update({order[0]: color}) #color max node current color\n",
    "    adj = [] #initialize list of adjacent vertices (will hold 1st and 2nd adjacencies)\n",
    "    adj_1 = list(graph.neighbors(center)) #1st adjancies of center\n",
    "    for node in adj_1: #add 1st adjancies to adj\n",
    "        adj.append(node)\n",
    "    \n",
    "    #add 2nd adjacencies of center to adj\n",
    "    for node in adj_1:\n",
    "        for adj_2 in list(graph.neighbors(node)):\n",
    "            if adj_2 not in adj: #only need set of adjacencies\n",
    "                adj.append(adj_2)\n",
    "    \n",
    "    #make copy of inputted graph\n",
    "    G1 = graph.__class__()\n",
    "    G1.add_nodes_from(graph)\n",
    "    G1.add_edges_from(graph.edges)\n",
    "    \n",
    "    #remove 1st and 2nd adjacent vertices (and their edges)\n",
    "    G1.remove_nodes_from(adj)\n",
    "    \n",
    "    #update order based on what is deleted\n",
    "    order = [x for x in order if x not in adj]\n",
    "    \n",
    "    #call function again if graph is not empty\n",
    "    if not nx.is_empty(G1):\n",
    "        remove_1_2_adj(G1, order[0], color)\n",
    "    else:\n",
    "        print('DONE WITH RECURSION, IDK WHAT TO DO NOW')\n",
    "\n",
    "remove_1_2_adj(graph, 0, color)\n",
    "print(colorings)"
   ]
  },
  {
   "cell_type": "code",
   "execution_count": 6,
   "metadata": {},
   "outputs": [],
   "source": [
    "def order_vertices(graph):\n",
    "    \"\"\"graph: input graph\n",
    "    \n",
    "    returns order of vertices from max to min degree\n",
    "    \"\"\"\n",
    "    orderFull = sorted(graph.degree, key=lambda x: x[1], reverse=True) #order vertices max to min degree\n",
    "\n",
    "    #get just vertices in order\n",
    "    order = []\n",
    "    for i in range(len(orderFull)):\n",
    "        order.append(orderFull[i][0])\n",
    "        \n",
    "    return order"
   ]
  },
  {
   "cell_type": "code",
   "execution_count": 24,
   "metadata": {},
   "outputs": [
    {
     "name": "stdout",
     "output_type": "stream",
     "text": [
      "{0: 0, 4: 0, 7: 0, 10: 0, 13: 0, 16: 0, 2: 2}\n"
     ]
    }
   ],
   "source": [
    "#testing what could go in a recursive function, to do these steps:\n",
    "#go to next highest degree un-colored vertex, if connected to an already-colored vertex, currentColor += 2 (if not, currentColor += 1)\n",
    "#go through same as above\n",
    "\n",
    "v_uncolored = graph.__class__()\n",
    "v_uncolored.add_nodes_from(graph)\n",
    "v_uncolored.add_edges_from(graph.edges)\n",
    "\n",
    "v_colored = []\n",
    "for key in colorings.keys():\n",
    "    v_colored.append(key)\n",
    "\n",
    "v_uncolored.remove_nodes_from(v_colored) #make graph of just nodes that are uncolored\n",
    "\n",
    "order_test = order_vertices(v_uncolored)\n",
    "#print(order_test)\n",
    "#print(f\"already colored {colorings}\")\n",
    "#color next highest degree vertex according to pseudocode\n",
    "for neighbor in list(graph.neighbors(order_test[0])):\n",
    "    if neighbor in colorings:\n",
    "        color += 2\n",
    "        break\n",
    "    else:\n",
    "        color += 1\n",
    "        break\n",
    "\n",
    "colorings.update({order_test[0]: color})\n",
    "print(colorings)"
   ]
  },
  {
   "cell_type": "code",
   "execution_count": null,
   "metadata": {},
   "outputs": [],
   "source": []
  }
 ],
 "metadata": {
  "kernelspec": {
   "display_name": "Python 3",
   "language": "python",
   "name": "python3"
  },
  "language_info": {
   "codemirror_mode": {
    "name": "ipython",
    "version": 3
   },
   "file_extension": ".py",
   "mimetype": "text/x-python",
   "name": "python",
   "nbconvert_exporter": "python",
   "pygments_lexer": "ipython3",
   "version": "3.6.9"
  }
 },
 "nbformat": 4,
 "nbformat_minor": 2
}
