{
 "cells": [
  {
   "cell_type": "markdown",
   "metadata": {},
   "source": [
    "# L(2,1) Welsh Powell Implementation\n",
    "\n",
    "Emma's pseudocode:\n",
    "\n",
    "- Let C be the set of nodes that are currently in the running for being colored\n",
    "- Begin with all nodes in C\n",
    "- Choose highest degree node, color it the first color\n",
    "- Remove that node and the 1st and 2nd degree adjacencies of that node from C\n",
    "- Choose next highest degree node from C, remove 1st and 2nd adjacencies\n",
    "- Continue until C = emptyset\n",
    "- Add the 2nd degree adjacencies back into C\n",
    "- Repeat the process with the next color\n",
    "- After this one, also add the 1st degree adjacencies from the first color back in\n",
    "- Continue until all nodes are colored"
   ]
  },
  {
   "cell_type": "code",
   "execution_count": 1,
   "metadata": {},
   "outputs": [],
   "source": [
    "import networkx as nx\n",
    "import matplotlib.pyplot as plt"
   ]
  },
  {
   "cell_type": "code",
   "execution_count": 93,
   "metadata": {},
   "outputs": [],
   "source": [
    "# G = nx.cycle_graph(20) #sample graph to use\n",
    "\n",
    "# orderFull = sorted(G.degree, key=lambda x: x[1], reverse=True) #order vertices max to min degree\n",
    "\n",
    "# #get just vertices in order\n",
    "# order = []\n",
    "# for i in range(len(orderFull)):\n",
    "#     order.append(orderFull[i][0])\n",
    "\n",
    "# colorings = {}\n",
    "# Color = 0"
   ]
  },
  {
   "cell_type": "code",
   "execution_count": 92,
   "metadata": {},
   "outputs": [],
   "source": [
    "#couldn't get this to work\n",
    "# node= 0\n",
    "# radius = 2\n",
    "# new_graph = nx.generators.ego_graph(G, node, radius=radius)\n",
    "# new_poss = nx.Graph()\n",
    "# print(new_graph.edges())\n",
    "# print(G.edges())\n",
    "# x = list(new_graph.edges()) not in list(G.edges())\n",
    "# print(x)\n",
    "# #new_poss.add_edges_from(new_graph.edges() not in G.edges())\n",
    "# #nx.draw(new_graph, with_labels = True)"
   ]
  },
  {
   "cell_type": "code",
   "execution_count": 78,
   "metadata": {},
   "outputs": [
    {
     "data": {
      "image/png": "[encoded data removed]",
      "text/plain": [
       "<Figure size 432x288 with 1 Axes>"
      ]
     },
     "metadata": {},
     "output_type": "display_data"
    }
   ],
   "source": [
    "#get 1st and 2nd adjacencies of vertex\n",
    "# vertex = 0\n",
    "# adj = []\n",
    "# adj_1 = list(G.neighbors(vertex))\n",
    "# for node in adj_1:\n",
    "#     for adj_2 in list(G.neighbors(node)):\n",
    "#         if adj_2 not in adj:\n",
    "#             adj.append(adj_2)\n",
    "\n",
    "# for node in adj_1:\n",
    "#     if node not in adj:\n",
    "#         adj.append(node)\n",
    "\n",
    "# #make a copy of original graph\n",
    "# G1 = G.__class__()\n",
    "# G1.add_nodes_from(G)\n",
    "# G1.add_edges_from(G.edges)\n",
    "\n",
    "# #delete 1st and 2nd adjacencies\n",
    "# G1.remove_nodes_from(adj)\n",
    "\n",
    "# nx.draw(G1, with_labels = True)"
   ]
  },
  {
   "cell_type": "code",
   "execution_count": 10,
   "metadata": {},
   "outputs": [
    {
     "name": "stdout",
     "output_type": "stream",
     "text": [
      "DONE WITH RECURSION, G is empty\n",
      "{0: 0, 4: 0, 7: 0, 10: 0, 13: 0, 16: 0}\n"
     ]
    }
   ],
   "source": [
    "#trying recurisve function to delete 1st and 2nd adjacencies\n",
    "#function colors node w/ max degree the current color\n",
    "\n",
    "G = nx.cycle_graph(20) #sample graph to use\n",
    "colorings = {}\n",
    "color = 0\n",
    "def remove_1_2(graph, center):\n",
    "    '''\n",
    "    graph: graph we are passing in\n",
    "    center: node to delete off of (node with max degree)\n",
    "    \n",
    "    recursively colors max degree vertex and removes 1st and 2nd adjacencies until graph is empty\n",
    "    '''\n",
    "    \n",
    "    \n",
    "    \n",
    "    orderFull = sorted(graph.degree, key=lambda x: x[1], reverse=True) #order vertices max to min degree\n",
    "\n",
    "    #get just vertices in order\n",
    "    order = []\n",
    "    for i in range(len(orderFull)):\n",
    "        order.append(orderFull[i][0])\n",
    "    \n",
    "    \n",
    "    colorings.update({order[0]: color}) #color max node current color\n",
    "    adj = [] #initialize list of adjacent vertices (will hold 1st and 2nd adjacencies)\n",
    "    adj_1 = list(graph.neighbors(center)) #1st adjancies of center\n",
    "    for node in adj_1: #add 1st adjancies to adj\n",
    "        adj.append(node)\n",
    "    \n",
    "    #add 2nd adjacencies of center to adj\n",
    "    for node in adj_1:\n",
    "        for adj_2 in list(graph.neighbors(node)):\n",
    "            if adj_2 not in adj: #only need set of adjacencies\n",
    "                adj.append(adj_2)\n",
    "    \n",
    "    #make copy of inputted graph\n",
    "    G1 = graph.__class__()\n",
    "    G1.add_nodes_from(graph)\n",
    "    G1.add_edges_from(graph.edges)\n",
    "    \n",
    "    #remove 1st and 2nd adjacent vertices (and their edges)\n",
    "    G1.remove_nodes_from(adj)\n",
    "    \n",
    "    #update order based on what is deleted\n",
    "    order = [x for x in order if x not in adj]\n",
    "    \n",
    "    #call function again if graph is not empty\n",
    "    if not nx.is_empty(G1):\n",
    "        remove_1_2(G1, order[0])\n",
    "    else:\n",
    "        print('DONE WITH RECURSION, G is empty')\n",
    "\n",
    "remove_1_2(G, 0)\n",
    "print(colorings)"
   ]
  },
  {
   "cell_type": "code",
   "execution_count": null,
   "metadata": {},
   "outputs": [],
   "source": []
  }
 ],
 "metadata": {
  "kernelspec": {
   "display_name": "Python 3",
   "language": "python",
   "name": "python3"
  },
  "language_info": {
   "codemirror_mode": {
    "name": "ipython",
    "version": 3
   },
   "file_extension": ".py",
   "mimetype": "text/x-python",
   "name": "python",
   "nbconvert_exporter": "python",
   "pygments_lexer": "ipython3",
   "version": "3.6.9"
  }
 },
 "nbformat": 4,
 "nbformat_minor": 2
}
