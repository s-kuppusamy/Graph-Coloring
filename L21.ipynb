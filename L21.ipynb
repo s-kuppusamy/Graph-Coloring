{
 "cells": [
  {
   "cell_type": "markdown",
   "metadata": {},
   "source": [
    "# L(2,1) Welsh Powell Implementation\n",
    "\n",
    "Emma's pseudocode:\n",
    "\n",
    "- Let C be the set of nodes that are currently in the running for being colored\n",
    "- Begin with all nodes in C\n",
    "- Choose highest degree node, color it the first color\n",
    "- Remove that node and the 1st and 2nd degree adjacencies of that node from C\n",
    "- Choose next highest degree node from C, remove 1st and 2nd adjacencies\n",
    "- Continue until C = emptyset\n",
    "- Add the 2nd degree adjacencies back into C\n",
    "- Repeat the process with the next color\n",
    "- After this one, also add the 1st degree adjacencies from the first color back in\n",
    "- Continue until all nodes are colored"
   ]
  },
  {
   "cell_type": "code",
   "execution_count": 3,
   "metadata": {},
   "outputs": [],
   "source": [
    "import networkx as nx\n",
    "import matplotlib.pyplot as plt"
   ]
  },
  {
   "cell_type": "code",
   "execution_count": 7,
   "metadata": {},
   "outputs": [
    {
     "name": "stdout",
     "output_type": "stream",
     "text": [
      "Exiting\n",
      "{0: 0, 1: 2, 3: 3, 5: 4, 2: 5, 4: 6, 6: 7, 8: 8, 10: 9, 7: 10, 9: 11, 11: 12, 13: 13, 15: 14, 12: 15, 14: 16, 16: 17, 18: 18, 17: 20, 19: 21}\n"
     ]
    }
   ],
   "source": [
    "G = nx.wheel_graph(20) #sample graph to use\n",
    "colorings = {}\n",
    "color = 0\n",
    "node_status = {} #structure is -- node:[\"prev1st\",\"curr1st\",\"curr2nd\"]\n",
    "for node in G.nodes():\n",
    "    node_status[node] = []\n",
    "\n",
    "\n",
    "orderFull = sorted(G.degree, key=lambda x: x[1], reverse=True) #order vertices max to min degree\n",
    "#get just vertices in order. trusting sam that this is necessary, will question it later\n",
    "order = []\n",
    "for i in range(len(orderFull)):\n",
    "    order.append(orderFull[i][0])\n",
    "\n",
    "graph_not_colored = True\n",
    "while graph_not_colored:\n",
    "        \n",
    "    curr_color_done = False\n",
    "    while True: #keep going until curr_color_done. could make this more elegant\n",
    "\n",
    "        center_try = 0 #find current center. could also make this more elegant\n",
    "        while True: \n",
    "            if center_try == len(order):\n",
    "                curr_color_done = True\n",
    "                break\n",
    "            if node_status[center_try] == [] and not center_try in colorings:\n",
    "                center = center_try\n",
    "                break\n",
    "            center_try += 1\n",
    "\n",
    "        if curr_color_done:\n",
    "            break\n",
    "\n",
    "        colorings[center] = color #color max node current color\n",
    "\n",
    "        # add 1st adjacencies of center to node_status\n",
    "        adj_1 = list(G.neighbors(center))\n",
    "        for node in adj_1:\n",
    "            node_status[node].append(\"curr1st\")\n",
    "        #add 2nd adjacencies of center to node_status\n",
    "        for node in adj_1:\n",
    "            for adj_2 in list(G.neighbors(node)):\n",
    "                node_status[adj_2].append(\"curr2nd\")\n",
    "\n",
    "    #update node_status labels for next round\n",
    "    for node in node_status:\n",
    "        #TODO: combine these into one for loop rather than two\n",
    "        node_status[node][:] = [x for x in node_status[node] if x!=\"curr2nd\" or \"prev1st\"] #remove curr2nd and prev1st labels\n",
    "        node_status[node][:] = [\"prev1st\" for x in node_status[node] if x==\"curr1st\"] #change curr1st labels to prev1st\n",
    "    \n",
    "    color += 1\n",
    "\n",
    "    if len(colorings) == len(order):\n",
    "        print(\"Exiting\")\n",
    "        graph_not_colored = False\n",
    "\n",
    "print(colorings)"
   ]
  },
  {
   "cell_type": "code",
   "execution_count": 11,
   "metadata": {},
   "outputs": [
    {
     "data": {
      "image/png": "[encoded data removed]",
      "text/plain": [
       "<Figure size 432x288 with 1 Axes>"
      ]
     },
     "metadata": {},
     "output_type": "display_data"
    }
   ],
   "source": [
    "#print(node_status)\n",
    "#print(colorings)   \n",
    "\n",
    "nodeList = list(G.nodes())\n",
    "final_colorings = {}\n",
    "for node in nodeList:\n",
    "    final_colorings.update({node: colorings[node]})\n",
    "\n",
    "#color_options = ['red', 'blue', 'green', 'magenta', 'brown', 'gray',\n",
    "                #'olive', 'palegreen', 'pink', 'dodgerblue', 'slateblue',\n",
    "                #'indigo', 'lavender', 'seagreen', 'teal', 'peachpuff', 'rosybrown']\n",
    "color_options = ['red', 'orange', 'yellow', 'green', 'blue', 'purple']\n",
    "labels = [0, 1, 2, 3, 4, 5, 6, 7, 8, 9, 10, 11, 12, 13, 14, 15]\n",
    "color_map = []\n",
    "label_map = []\n",
    "\n",
    "for vertex in final_colorings:\n",
    "    color_map.append(color_options[colorings[vertex]])\n",
    "    label_map.append(labels[colorings[vertex]])\n",
    "    \n",
    "nx.draw_circular(G, node_color = color_map)\n",
    "pos = nx.circular_layout(G)\n",
    "#nx.draw_networkx_labels(G, pos, labels = label_map)\n",
    "plt.show()"
   ]
  },
  {
   "cell_type": "code",
   "execution_count": null,
   "metadata": {},
   "outputs": [],
   "source": [
    "#UNSURE ABOUT: multiple instances of curr2nd and what that means for the next round. Need whiteboard and brain."
   ]
  }
 ],
 "metadata": {
  "kernelspec": {
   "display_name": "Python 3",
   "language": "python",
   "name": "python3"
  },
  "language_info": {
   "codemirror_mode": {
    "name": "ipython",
    "version": 3
   },
   "file_extension": ".py",
   "mimetype": "text/x-python",
   "name": "python",
   "nbconvert_exporter": "python",
   "pygments_lexer": "ipython3",
   "version": "3.6.6"
  }
 },
 "nbformat": 4,
 "nbformat_minor": 2
}
