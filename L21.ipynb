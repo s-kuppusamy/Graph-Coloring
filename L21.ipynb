{
 "cells": [
  {
   "cell_type": "markdown",
   "metadata": {},
   "source": [
    "# L(2,1) Recursive Largest First Implementation"
   ]
  },
  {
   "cell_type": "code",
   "execution_count": 11,
   "metadata": {},
   "outputs": [],
   "source": [
    "import networkx as nx\n",
    "import matplotlib.pyplot as plt\n",
    "from random import randint"
   ]
  },
  {
   "cell_type": "code",
   "execution_count": 24,
   "metadata": {},
   "outputs": [],
   "source": [
    "def color_L21(G):\n",
    "    \"\"\"\n",
    "    Finds L(2,1) coloring of a given graph\n",
    "    G: nx graph object\n",
    "    colorings: dict with node:color assignment\n",
    "    \"\"\"\n",
    "    \n",
    "    colorings = {}\n",
    "    color = 0\n",
    "    graph_not_colored = True\n",
    "    \n",
    "    #initialize dict of node labels, which records which nodes are legal in a given round of coloring\n",
    "    node_status = {}\n",
    "    for node in G.nodes():\n",
    "        node_status[node] = []\n",
    "\n",
    "    #order vertices max to min degree\n",
    "    order_degree_inc = sorted(G.degree, key=lambda x: x[1], reverse=True) \n",
    "    order = [order_degree_inc[i][0] for i in range(len(order_degree_inc))] #pull out vertices, discard degree\n",
    "    \n",
    "\n",
    "    #iterate through colors according to rules of L(2,1) until whole graph is colored\n",
    "    while graph_not_colored:\n",
    "        \n",
    "        #color nodes with single color until no legal nodes are left\n",
    "        curr_color_done = False\n",
    "        while True: \n",
    "            \n",
    "            #determine highest order legal node to color next\n",
    "            iterator = 0\n",
    "            while True:\n",
    "                center_try = order[iterator] #check (next) highest degree vertex\n",
    "                \n",
    "                if node_status[center_try] == [] and not center_try in colorings:\n",
    "                    center = center_try\n",
    "                    break\n",
    "                    \n",
    "                if center_try == order[len(order) - 1]: #if at last vertex in order and not set as center\n",
    "                    curr_color_done = True #set flag to end run of current color\n",
    "                    break\n",
    "                    \n",
    "                iterator += 1 #check next vertex in order\n",
    "            \n",
    "            #end run of current color\n",
    "            if curr_color_done:\n",
    "                break\n",
    "\n",
    "            colorings[center] = color #color max node current color\n",
    "\n",
    "            #add labels in node_status to 1st adjacences of center\n",
    "            adj_1 = list(G.neighbors(center))\n",
    "            for node in adj_1:\n",
    "                node_status[node].append(\"curr1st\")\n",
    "                \n",
    "            #add labels in node_status to 2nd adjacences of center\n",
    "            for node in adj_1:\n",
    "                for adj_2 in list(G.neighbors(node)):\n",
    "                    node_status[adj_2].append(\"curr2nd\")\n",
    "\n",
    "        #update node_status labels for next round\n",
    "        for node in node_status:\n",
    "            node_status[node][:] = [x for x in node_status[node] if x!=\"curr2nd\" or \"prev1st\"] #remove curr2nd and prev1st labels\n",
    "            node_status[node][:] = [\"prev1st\" for x in node_status[node] if x==\"curr1st\"] #change curr1st labels to prev1st\n",
    "        \n",
    "        color += 1 #iterate to next color for next round\n",
    "        \n",
    "        #check if graph is fully colored, if so, end loop\n",
    "        if len(colorings) == len(order):\n",
    "            print(colorings)\n",
    "            return colorings\n",
    "            graph_not_colored = False"
   ]
  },
  {
   "cell_type": "code",
   "execution_count": 25,
   "metadata": {},
   "outputs": [],
   "source": [
    "def draw_graph(G, colorings):\n",
    "    \"\"\"\n",
    "    Plots the colored graph\n",
    "    G: nx graph object\n",
    "    colorings: output from color_l21 (which is dict with node: color assignment) \n",
    "    \"\"\"\n",
    "    \n",
    "    nodeList = list(G.nodes()) #get nodes of G\n",
    "    \n",
    "    #get coloring in order of G\n",
    "    final_colorings = {}\n",
    "    for node in nodeList:\n",
    "        final_colorings.update({node: colorings[node]})\n",
    "    \n",
    "    #make set of random color options\n",
    "    color_options = []\n",
    "    for i in range(100):\n",
    "        color_options.append('#%06X' % randint(0, 0xAAAAAA))\n",
    "    \n",
    "    #put color and label into structure\n",
    "    color_map = []\n",
    "    label_dict = {}\n",
    "    labels = range(100)\n",
    "    for vertex in final_colorings:\n",
    "        color_map.append(color_options[colorings[vertex]])\n",
    "        label_dict.update({vertex: labels[colorings[vertex]]})\n",
    "    \n",
    "    #draw G with each node being the assigned color (and color's number)\n",
    "    nx.draw(G, node_color = color_map, labels = label_dict, with_labels = True)\n",
    "    plt.show()"
   ]
  },
  {
   "cell_type": "code",
   "execution_count": 26,
   "metadata": {},
   "outputs": [
    {
     "name": "stdout",
     "output_type": "stream",
     "text": [
      "{0: 0, 3: 0, 6: 0, 9: 0, 12: 0, 15: 0, 17: 1, 1: 2, 4: 2, 7: 2, 10: 2, 13: 2, 16: 3, 19: 3, 2: 4, 5: 4, 8: 4, 11: 4, 14: 4, 18: 5}\n"
     ]
    },
    {
     "data": {
      "image/png": "[encoded data removed]",
      "text/plain": [
       "<Figure size 432x288 with 1 Axes>"
      ]
     },
     "metadata": {},
     "output_type": "display_data"
    }
   ],
   "source": [
    "#sample graph to select\n",
    "G = nx.cycle_graph(20) \n",
    "# G = nx.karate_club_graph()\n",
    "\n",
    "colorings = color_L21(G)\n",
    "draw_graph(G, colorings)"
   ]
  },
  {
   "cell_type": "markdown",
   "metadata": {},
   "source": [
    "Follow this link for more fun graph examples to try out:\n",
    "https://networkx.org/documentation/stable/reference/generators.html"
   ]
  }
 ],
 "metadata": {
  "kernelspec": {
   "display_name": "Python 3",
   "language": "python",
   "name": "python3"
  },
  "language_info": {
   "codemirror_mode": {
    "name": "ipython",
    "version": 3
   },
   "file_extension": ".py",
   "mimetype": "text/x-python",
   "name": "python",
   "nbconvert_exporter": "python",
   "pygments_lexer": "ipython3",
   "version": "3.6.6"
  }
 },
 "nbformat": 4,
 "nbformat_minor": 2
}
