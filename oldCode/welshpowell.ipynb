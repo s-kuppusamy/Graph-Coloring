#1. determine degree of each vertex
#2. order vertices from max to min (ties don't matter, decide ties however you want)
#3. color first vertex (that is the one with the highest degree) a color
#4. color each subsequent vertex not connected to that vertex or another vertex already that that color the color
#5. repeat until every vertex is colored (that is go to next highest degree vertex, assign it a color, assign all not connected (and not already colored) that color, repeat)


#importing networkx

import matplotlib.pyplot as plt
import networkx as nx
import numpy as np
import seaborn as sns

#creating graph
G = nx.Graph()
nodes = (1,2,3,4,5,6,7,8,9)
G.add_nodes_from(nodes)
edges = {(1,2),(2,3),(1,4),(2,4),(2,5),(2,6),(5,6),
(4,7),(5,7),(5,8),(5,9),(8,9)}
G.add_edges_from(edges)

nx.draw(G, nodes, 
        node_color='C1', 
        node_shape='s', 
        node_size=2500, 
        with_labels=True)
        
plt.axis('equal')
